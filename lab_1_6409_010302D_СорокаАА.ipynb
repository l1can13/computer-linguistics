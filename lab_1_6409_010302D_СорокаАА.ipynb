{
 "cells": [
  {
   "cell_type": "markdown",
   "metadata": {},
   "source": [
    "# Лабораторная работа №1\n",
    "\n",
    "**Требования:**\n",
    "* Python >= 3.X\n",
    "\n",
    "Лабораторную работу необходимо выполнять в данном шаблоне. Результатом работы будет являться файл (с измененным именем), который необходимо выложить в Moodle.\n",
    "\n",
    "**Важно!!!** Имя файлу задавайте по следующему шаблону **lab_1_Группа_ФамилияИО.ipynb**. Например: если Вас зовут Иванов Иван Иванович, и Вы обучаетесь в группе 6207_010302D, то имя файла будет выглядеть так **lab_1_6407_010302D_ИвановИИ.ipynb**."
   ]
  },
  {
   "cell_type": "code",
   "execution_count": 31,
   "outputs": [],
   "source": [
    "# Код загрузки данных\n",
    "# Если хотите добавить какие-либо библиотеки\n",
    "# добавляйте их ИМЕННО ЗДЕСЬ\n",
    "import nltk\n",
    "import inflect\n",
    "import re\n",
    "nltk.download('gutenberg', quiet=True)\n",
    "nltk.download('punkt', quiet=True)\n",
    "\n",
    "# Наименования книг\n",
    "books = []\n",
    "# Содержимое книг\n",
    "raw_texts = []\n",
    "\n",
    "for fileid in nltk.corpus.gutenberg.fileids():\n",
    "    books.append(fileid)\n",
    "    raw_texts.append(nltk.corpus.gutenberg.raw(fileid))"
   ],
   "metadata": {
    "collapsed": false,
    "ExecuteTime": {
     "end_time": "2024-02-25T12:53:06.790805500Z",
     "start_time": "2024-02-25T12:53:06.771807600Z"
    }
   }
  },
  {
   "cell_type": "markdown",
   "metadata": {},
   "source": [
    "#### Шаг №1\n",
    "Предобработайте тексты, которые содержатся в списке `raw_texts`, но сначала внимательно изучите их структуру. Сохраните полученные данные в списке `books_tokens` (в разрезе книг, как и было с сырыми текстами).\n",
    "\n",
    "Порядок обработки текста:\n",
    "* Замените все числа, которые представлены цифрами, их текстовым представлением (т.е. прописью). Пример: 1 = one, 23 = twenty three, 1042 = one thousand forty two, и т.п. См. библиотеку **inflect**.\n",
    "* Приведите текст к нижнему регистру\n",
    "* Произведите токинезацию, в качестве токенов выступают слова.\n",
    "\n",
    "Подсказка: рекомендуется отлаживать алгоритмы на паре книг, рассчеты на всем корпусе идут продолжительное время."
   ]
  },
  {
   "cell_type": "code",
   "execution_count": 33,
   "metadata": {
    "ExecuteTime": {
     "end_time": "2024-02-25T12:53:23.818620400Z",
     "start_time": "2024-02-25T12:53:23.813522200Z"
    }
   },
   "outputs": [
    {
     "name": "stdout",
     "output_type": "stream",
     "text": [
      "[Emma by Jane Austen 1816]\n",
      "[Emma by Jane Austen one thousand, eight hundred and sixteen]\n"
     ]
    }
   ],
   "source": [
    "# вставьте код здесь\n",
    "p = inflect.engine()\n",
    "\n",
    "text = raw_texts[0][:26]\n",
    "\n",
    "# Функция для замены чисел на их текстовые эквиваленты\n",
    "def replace_numbers_with_words(match):\n",
    "    number = match.group(0)\n",
    "    # Преобразуем число в текстовое представление\n",
    "    word = p.number_to_words(number)\n",
    "    return word\n",
    "\n",
    "# Используем регулярные выражения для поиска и замены чисел на слова\n",
    "text_with_words = re.sub(r'\\d+', replace_numbers_with_words, text)\n",
    "\n",
    "print(text)\n",
    "print(text_with_words)"
   ]
  },
  {
   "cell_type": "markdown",
   "metadata": {},
   "source": [
    "#### Шаг №2\n",
    "\n",
    "* Вычислите словари для каждой книги (переменная `books_vocabularies`).\n",
    "* Вычислите словарь для всего корпуса (переменная `books_vocabulary`).\n",
    "* Рассчитайте частоту употребления токенов в корпусе (переменная `freq_tokens`), и постройте график зависимости частоты употребления токена от токена (для 30-ти самых популярных)."
   ]
  },
  {
   "cell_type": "code",
   "execution_count": 20,
   "metadata": {
    "ExecuteTime": {
     "end_time": "2024-02-25T12:46:09.483911600Z",
     "start_time": "2024-02-25T12:46:09.394792800Z"
    }
   },
   "outputs": [],
   "source": [
    "# вставьте код здесь"
   ]
  },
  {
   "cell_type": "markdown",
   "metadata": {},
   "source": [
    "#### Шаг №3\n",
    "* Сгенерируйте список триграмм (переменная `trigrams`) по всему корпусу и рассчитайте частоту их употребления (переменная `freq_trigrams`).\n",
    "* Реализуйте наивный генератор текста (30 токенов). \n",
    "    1. Для затравки берется два стартовых токена, которые становятся текущими. Первый токен выводится на экран.\n",
    "    2. Второй токен из активной пары токенов выводится на экран. Если мы сгененрировали нужное количество текста, то останавливаем алгоритм.\n",
    "    3. По текущей паре токенов (первые в триграмме) определяется наиболее употребительная траграмма, которая помечается как использованная. Использованные триграммы на последующих шагах в рассмотрении не участвуют. Второй и третий токены данной триграммы становятся текущими. Переходим к п. 2."
   ]
  },
  {
   "cell_type": "code",
   "execution_count": 21,
   "metadata": {
    "ExecuteTime": {
     "end_time": "2024-02-25T12:46:09.489911400Z",
     "start_time": "2024-02-25T12:46:09.454534300Z"
    }
   },
   "outputs": [],
   "source": [
    "# вставьте код здесь"
   ]
  }
 ],
 "metadata": {
  "kernelspec": {
   "display_name": "Python 3 (ipykernel)",
   "language": "python",
   "name": "python3"
  },
  "language_info": {
   "codemirror_mode": {
    "name": "ipython",
    "version": 3
   },
   "file_extension": ".py",
   "mimetype": "text/x-python",
   "name": "python",
   "nbconvert_exporter": "python",
   "pygments_lexer": "ipython3",
   "version": "3.11.2"
  }
 },
 "nbformat": 4,
 "nbformat_minor": 2
}
